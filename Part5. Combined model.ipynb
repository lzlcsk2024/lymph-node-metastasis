{
 "cells": [
  {
   "cell_type": "code",
   "execution_count": null,
   "id": "2a9f5525",
   "metadata": {},
   "outputs": [],
   "source": [
    "import pandas as pd\n",
    "import shutil\n",
    "import os\n",
    "import numpy as np\n",
    "import matplotlib.pyplot as plt\n",
    "import onekey_algo.custom.components as okcomp\n",
    "from onekey_algo import get_param_in_cwd\n",
    "\n",
    "plt.rcParams['figure.dpi'] = 300\n",
    "\n",
    "task = get_param_in_cwd('task_column') or 'label'\n",
    "group_info = get_param_in_cwd('dataset_column', 'group')\n",
    "bst_model = get_param_in_cwd('sel_model') or 'LR'\n",
    "model_names = ['Clinic', 'DL', 'Rad', 'Nomogram']\n",
    "labels = [task]\n",
    "label_data_ = pd.read_csv('clinic_sel.csv')[['ID', 'label']]\n",
    "label_data_ = label_data_.dropna(axis=0)\n",
    "\n",
    "ids = label_data_['ID']\n",
    "print(label_data_.columns)\n",
    "label_data = label_data_[['ID'] + labels]\n",
    "label_data"
   ]
  },
  {
   "cell_type": "markdown",
   "id": "bac2af6a",
   "metadata": {},
   "source": [
    "# 训练集-Nomogram"
   ]
  },
  {
   "cell_type": "code",
   "execution_count": null,
   "id": "2fb3c452",
   "metadata": {},
   "outputs": [],
   "source": [
    "import pandas as pd\n",
    "\n",
    "subset = 'train'\n",
    "ALL_results = None\n",
    "for mn in model_names[:-1]:\n",
    "    r = pd.read_csv(f'./results/{mn}_{bst_model}_{subset}.csv')\n",
    "    r.columns = ['ID', '-0', mn]\n",
    "    if ALL_results is None:\n",
    "        ALL_results = r\n",
    "    else:\n",
    "        ALL_results = pd.merge(ALL_results, r, on='ID', how='inner')\n",
    "\n",
    "ALL_results = pd.merge(ALL_results, label_data, on='ID', how='inner')\n",
    "\n",
    "Clinic = pd.read_csv('clinic_sel.csv')\n",
    "\n",
    "Clinic = Clinic[[c for c in Clinic.columns if c not in [task, group_info]]]\n",
    "ALL_results = pd.merge(ALL_results, Clinic, on='ID', how='inner')\n",
    "\n",
    "ALL_results = ALL_results.dropna(axis=1)\n",
    "ALL_results"
   ]
  },
  {
   "cell_type": "code",
   "execution_count": null,
   "id": "62ebbf93",
   "metadata": {},
   "outputs": [],
   "source": [
    "from sklearn.linear_model import LogisticRegression\n",
    "from sklearn.svm import SVC\n",
    "from onekey_algo.custom.components import metrics\n",
    "\n",
    "model = LogisticRegression(random_state=0)\n",
    "# model = SVC(probability=True, random_state=0)\n",
    "data_x = ALL_results[model_names[1:-1] + list(Clinic.columns[1:])]\n",
    "data_y = ALL_results[task]\n",
    "model.fit(data_x, data_y)\n",
    "results = model.predict_proba(data_x)\n",
    "results = pd.DataFrame(results, index=ALL_results['ID'], columns=[f'{task}-0', f'{task}-1']).reset_index()\n",
    "results.to_csv(f'./results/Nomo_{subset}.csv', index=False, header=True)\n",
    "pd.DataFrame([metrics.analysis_pred_binary(ALL_results[task], results[f'{task}-1'])], \n",
    "                  columns=['acc', 'auc', '95%CI', 'Sensitivity', 'Specificity', 'PPV', 'NPV', 'Precision', 'Recall', 'F1', 'Threshold'])"
   ]
  },
  {
   "cell_type": "code",
   "execution_count": null,
   "id": "e9f4effb",
   "metadata": {
    "scrolled": false
   },
   "outputs": [],
   "source": [
    "pred_column = [f'{task}-0', f'{task}-1']\n",
    "results.columns = ['ID', '-0', 'Nomogram']\n",
    "ALL_results = pd.merge(ALL_results, results, on='ID', how='inner')\n",
    "gt = [np.array(ALL_results[task]) for d in model_names]\n",
    "pred_train = [np.array(ALL_results[d]) for d in model_names]\n",
    "okcomp.comp1.draw_roc(gt, pred_train, labels=model_names, title=f\"Model AUC\")\n",
    "plt.savefig(f'img/{subset}_auc.svg')"
   ]
  },
  {
   "cell_type": "code",
   "execution_count": null,
   "id": "de1a5b8d",
   "metadata": {},
   "outputs": [],
   "source": [
    "from onekey_algo.custom.components.metrics import analysis_pred_binary\n",
    "metric = []\n",
    "for mname, y, score in zip(model_names, gt, pred_train):\n",
    "    # 计算验证集指标\n",
    "    acc, auc, ci, tpr, tnr, ppv, npv, precision, recall, f1, thres = analysis_pred_binary(y, score)\n",
    "    ci = f\"{ci[0]:.4f} - {ci[1]:.4f}\"\n",
    "    metric.append((mname, acc, auc, ci, tpr, tnr, ppv, npv, precision, recall, f1, thres, f\"Train\"))\n",
    "pd.DataFrame(metric, index=None, columns=['Signature', 'Accuracy', 'AUC', '95% CI', 'Sensitivity', 'Specificity', \n",
    "                                          'PPV', 'NPV', 'Precision', 'Recall', 'F1','Threshold', 'Cohort'])"
   ]
  },
  {
   "cell_type": "code",
   "execution_count": null,
   "id": "5e5a0eeb",
   "metadata": {},
   "outputs": [],
   "source": [
    "from onekey_algo.custom.components.delong import delong_roc_test\n",
    "from onekey_algo.custom.components.comp1 import draw_matrix\n",
    "\n",
    "delong = []\n",
    "delong_columns = []\n",
    "this_delong = []\n",
    "plt.figure(figsize=(5, 4))\n",
    "cm = np.zeros((len(model_names), len(model_names)))\n",
    "for i, mni in enumerate(model_names):\n",
    "    for j, mnj in enumerate(model_names):\n",
    "        if i <= j:\n",
    "            cm[i][j] = np.nan\n",
    "        else:\n",
    "            cm[i][j] = delong_roc_test(ALL_results[task], ALL_results[mni], ALL_results[mnj])[0][0]\n",
    "cm = pd.DataFrame(cm[1:, :-1], index=model_names[1:], columns=model_names[:-1])\n",
    "draw_matrix(cm, annot=True, cmap='jet_r', cbar=True)\n",
    "plt.title(f'Cohort {subset} Delong')\n",
    "plt.savefig(f'img/delong_each_cohort_{subset}.svg', bbox_inches = 'tight')\n",
    "plt.show()"
   ]
  },
  {
   "cell_type": "code",
   "execution_count": null,
   "id": "e14a69c0",
   "metadata": {},
   "outputs": [],
   "source": [
    "from onekey_algo.custom.components.comp1 import plot_DCA\n",
    "plot_DCA([ALL_results[mn] for mn in model_names], ALL_results[task], title=f'Model for DCA', labels=model_names, y_min=-0.15)\n",
    "plt.savefig(f'img/{subset}_dca.svg')"
   ]
  },
  {
   "cell_type": "code",
   "execution_count": null,
   "id": "4c119fb9",
   "metadata": {},
   "outputs": [],
   "source": [
    "from onekey_algo.custom.components.comp1 import draw_calibration\n",
    "draw_calibration(pred_scores=pred_train, n_bins=5, y_test=gt, model_names=model_names)\n",
    "plt.savefig(f'img/{subset}_cali.svg')"
   ]
  },
  {
   "cell_type": "code",
   "execution_count": null,
   "id": "c319c74d",
   "metadata": {},
   "outputs": [],
   "source": [
    "from onekey_algo.custom.components import stats\n",
    "\n",
    "hosmer = []\n",
    "hosmer.append([stats.hosmer_lemeshow_test(y_true, y_pred, bins=15) \n",
    "              for fn, y_true, y_pred in zip(model_names, gt, pred_train)])\n",
    "pd.DataFrame(hosmer, columns=model_names)"
   ]
  },
  {
   "cell_type": "code",
   "execution_count": null,
   "id": "c5eb809b",
   "metadata": {},
   "outputs": [],
   "source": [
    "from onekey_algo.custom.components import nomogram\n",
    "import shutil\n",
    "\n",
    "nomogram.risk_nomogram(ALL_results, result=task, columns=model_names[1:-1] + list(Clinic.columns[1:]), width=8000, height=5000,\n",
    "                       x_range='0.01,0.25,0.5,0.75,0.99')"
   ]
  },
  {
   "cell_type": "markdown",
   "id": "f34c52da",
   "metadata": {},
   "source": [
    "# 测试集-Nomogram"
   ]
  },
  {
   "cell_type": "code",
   "execution_count": null,
   "id": "5ca689b2",
   "metadata": {
    "scrolled": true
   },
   "outputs": [],
   "source": [
    "import pandas as pd\n",
    "\n",
    "subset = 'test'\n",
    "ALL_results = None\n",
    "for mn in model_names[:-1]:\n",
    "    r = pd.read_csv(f'./results/{mn}_{bst_model}_{subset}.csv')\n",
    "    r.columns = ['ID', '-0', mn]\n",
    "    if ALL_results is None:\n",
    "        ALL_results = r\n",
    "    else:\n",
    "        ALL_results = pd.merge(ALL_results, r, on='ID', how='inner')\n",
    "\n",
    "ALL_results = pd.merge(ALL_results, label_data, on='ID', how='inner')\n",
    "\n",
    "Clinic = pd.read_csv('clinic_sel.csv')\n",
    "\n",
    "Clinic = Clinic[[c for c in Clinic.columns if c not in [task, group_info]]]\n",
    "ALL_results = pd.merge(ALL_results, Clinic, on='ID', how='inner')\n",
    "\n",
    "ALL_results = ALL_results.dropna(axis=1)\n",
    "ALL_results"
   ]
  },
  {
   "cell_type": "code",
   "execution_count": null,
   "id": "18b3109c",
   "metadata": {},
   "outputs": [],
   "source": [
    "from sklearn.linear_model import LogisticRegression\n",
    "from sklearn.svm import SVC\n",
    "from onekey_algo.custom.components import metrics\n",
    "\n",
    "# model = LogisticRegression(random_state=0)\n",
    "# model = SVC(probability=True, random_state=0)\n",
    "data_x = ALL_results[model_names[1:-1] + list(Clinic.columns[1:])]\n",
    "data_y = ALL_results[task]\n",
    "# model.fit(data_x, data_y)\n",
    "results = model.predict_proba(data_x)\n",
    "results = pd.DataFrame(results, index=ALL_results['ID'], columns=[f'{task}-0', f'{task}-1']).reset_index()\n",
    "results.to_csv(f'./results/Nomo_{subset}.csv', index=False, header=True)\n",
    "pd.DataFrame([metrics.analysis_pred_binary(ALL_results[task], results[f'{task}-1'])], \n",
    "                  columns=['acc', 'auc', '95%CI', 'Sensitivity', 'Specificity', 'PPV', 'NPV', 'Precision', 'Recall', 'F1', 'Threshold'])"
   ]
  },
  {
   "cell_type": "code",
   "execution_count": null,
   "id": "dff7d1f3",
   "metadata": {},
   "outputs": [],
   "source": [
    "pred_column = [f'{task}-0', f'{task}-1']\n",
    "results.columns = ['ID', '-0', 'Nomogram']\n",
    "ALL_results = pd.merge(ALL_results, results, on='ID', how='inner')\n",
    "gt = [np.array(ALL_results[task]) for d in model_names]\n",
    "pred_train = [np.array(ALL_results[d]) for d in model_names]\n",
    "okcomp.comp1.draw_roc(gt, pred_train, labels=model_names, title=f\"Model AUC\")\n",
    "plt.savefig(f'img/{subset}_auc.svg')"
   ]
  },
  {
   "cell_type": "code",
   "execution_count": null,
   "id": "13228231",
   "metadata": {},
   "outputs": [],
   "source": [
    "from onekey_algo.custom.components.metrics import analysis_pred_binary\n",
    "for mname, y, score in zip(model_names, gt, pred_train):\n",
    "    # 计算验证集指标\n",
    "    acc, auc, ci, tpr, tnr, ppv, npv, precision, recall, f1, thres = analysis_pred_binary(y, score)\n",
    "    ci = f\"{ci[0]:.4f} - {ci[1]:.4f}\"\n",
    "    metric.append((mname, acc, auc, ci, tpr, tnr, ppv, npv, precision, recall, f1, thres, f\"Test\"))\n",
    "metric = pd.DataFrame(metric, index=None, columns=['Signature', 'Accuracy', 'AUC', '95% CI',\n",
    "                                                   'Sensitivity', 'Specificity', \n",
    "                                                   'PPV', 'NPV', 'Precision', 'Recall', 'F1',\n",
    "                                                   'Threshold', 'Cohort'])\n",
    "\n",
    "metric"
   ]
  },
  {
   "cell_type": "code",
   "execution_count": null,
   "id": "e6d15a26",
   "metadata": {},
   "outputs": [],
   "source": [
    "from onekey_algo.custom.components.delong import delong_roc_test\n",
    "from onekey_algo.custom.components.comp1 import draw_matrix\n",
    "\n",
    "delong = []\n",
    "delong_columns = []\n",
    "this_delong = []\n",
    "plt.figure(figsize=(5, 4))\n",
    "cm = np.zeros((len(model_names), len(model_names)))\n",
    "for i, mni in enumerate(model_names):\n",
    "    for j, mnj in enumerate(model_names):\n",
    "        if i <= j:\n",
    "            cm[i][j] = np.nan\n",
    "        else:\n",
    "            cm[i][j] = delong_roc_test(ALL_results[task], ALL_results[mni], ALL_results[mnj])[0][0]\n",
    "cm = pd.DataFrame(cm[1:, :-1], index=model_names[1:], columns=model_names[:-1])\n",
    "draw_matrix(cm, annot=True, cmap='jet_r', cbar=True)\n",
    "plt.title(f'Cohort {subset} Delong')\n",
    "plt.savefig(f'img/delong_each_cohort_{subset}.svg', bbox_inches = 'tight')\n",
    "plt.show()"
   ]
  },
  {
   "cell_type": "code",
   "execution_count": null,
   "id": "37b99f0f",
   "metadata": {},
   "outputs": [],
   "source": [
    "from onekey_algo.custom.components.comp1 import plot_DCA\n",
    "plot_DCA([ALL_results[mn] for mn in model_names], ALL_results[task], title=f'Model for DCA', labels=model_names)\n",
    "plt.savefig(f'img/{subset}_dca.svg')"
   ]
  },
  {
   "cell_type": "code",
   "execution_count": null,
   "id": "d87536e0",
   "metadata": {},
   "outputs": [],
   "source": [
    "from onekey_algo.custom.components.comp1 import draw_calibration\n",
    "draw_calibration(pred_scores=pred_train, n_bins=5, y_test=gt, model_names=model_names)\n",
    "plt.savefig(f'img/{subset}_cali.svg')"
   ]
  },
  {
   "cell_type": "code",
   "execution_count": null,
   "id": "6aebbe07",
   "metadata": {},
   "outputs": [],
   "source": [
    "from onekey_algo.custom.components import stats\n",
    "\n",
    "hosmer.append([stats.hosmer_lemeshow_test(y_true, y_pred, bins=5) \n",
    "              for fn, y_true, y_pred in zip(model_names, gt, pred_train)])\n",
    "pd.concat([pd.DataFrame(hosmer, columns=model_names), pd.DataFrame(['Train', 'Test'], columns=['Cohort'])], axis=1)"
   ]
  },
  {
   "cell_type": "code",
   "execution_count": null,
   "id": "6fd82692",
   "metadata": {},
   "outputs": [],
   "source": []
  },
  {
   "cell_type": "code",
   "execution_count": null,
   "id": "a2fb0fe5",
   "metadata": {},
   "outputs": [],
   "source": []
  }
 ],
 "metadata": {
  "kernelspec": {
   "display_name": "Python 3 (ipykernel)",
   "language": "python",
   "name": "python3"
  },
  "language_info": {
   "codemirror_mode": {
    "name": "ipython",
    "version": 3
   },
   "file_extension": ".py",
   "mimetype": "text/x-python",
   "name": "python",
   "nbconvert_exporter": "python",
   "pygments_lexer": "ipython3",
   "version": "3.7.12"
  }
 },
 "nbformat": 4,
 "nbformat_minor": 5
}
